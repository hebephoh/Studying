{
  "nbformat": 4,
  "nbformat_minor": 0,
  "metadata": {
    "colab": {
      "name": "Имхасина_дз1.ipynb",
      "provenance": [],
      "collapsed_sections": []
    },
    "kernelspec": {
      "name": "python3",
      "display_name": "Python 3"
    }
  },
  "cells": [
    {
      "cell_type": "markdown",
      "metadata": {
        "id": "R7yMl2bEIOtc"
      },
      "source": [
        "Импорт TensorFlow"
      ]
    },
    {
      "cell_type": "code",
      "metadata": {
        "id": "P0J3jEDv5DMT",
        "colab": {
          "base_uri": "https://localhost:8080/",
          "height": 35
        },
        "outputId": "19ced698-a282-451b-d568-fca33eacec14"
      },
      "source": [
        "import matplotlib.pyplot as plt\n",
        "import numpy as np\n",
        "import os\n",
        "import PIL\n",
        "import tensorflow as tf\n",
        "\n",
        "from tensorflow import keras\n",
        "from tensorflow.keras import layers, models\n",
        "from tensorflow.keras.models import Sequential\n",
        "print(tf.__version__)"
      ],
      "execution_count": null,
      "outputs": [
        {
          "output_type": "stream",
          "text": [
            "2.3.0\n"
          ],
          "name": "stdout"
        }
      ]
    },
    {
      "cell_type": "markdown",
      "metadata": {
        "id": "xYlc2_2ZIUFV"
      },
      "source": [
        "Загружаем датасет/преобразуем from integers to floating-point numbers (первое занятие) "
      ]
    },
    {
      "cell_type": "code",
      "metadata": {
        "id": "N_TO9hZR5GUE"
      },
      "source": [
        "#Загрузите и установите набор данных MNIST\n",
        "mnist = tf.keras.datasets.mnist\n",
        "(x_train, y_train), (x_test, y_test) = mnist.load_data()\n",
        "x_train, x_test = x_train / 255.0, x_test / 255.0"
      ],
      "execution_count": null,
      "outputs": []
    },
    {
      "cell_type": "markdown",
      "metadata": {
        "id": "KfS5krbhJRFz"
      },
      "source": [
        "добавляем 4ую координату для дальнейшего изменения базы"
      ]
    },
    {
      "cell_type": "code",
      "metadata": {
        "id": "TQxjX_6q5I2m"
      },
      "source": [
        "x_train = tf.reshape(x_train,[len(x_train), 28, 28, 1])"
      ],
      "execution_count": null,
      "outputs": []
    },
    {
      "cell_type": "markdown",
      "metadata": {
        "id": "yPuJJuo0JjjB"
      },
      "source": [
        "для увеличения базы используем рандомное увеличение (можно также # рандомный поворот и другие)\n",
        "\n",
        "используем preprocessing layers"
      ]
    },
    {
      "cell_type": "code",
      "metadata": {
        "id": "5xnJMeEw5M0R"
      },
      "source": [
        "data_augmentation = keras.Sequential([\n",
        "  #layers.experimental.preprocessing.RandomRotation(0.1),\n",
        "  layers.experimental.preprocessing.RandomZoom(0.2),\n",
        "])"
      ],
      "execution_count": null,
      "outputs": []
    },
    {
      "cell_type": "markdown",
      "metadata": {
        "id": "BbmwKzqeJIXX"
      },
      "source": [
        "создаем сверточную базу и подбираем значения чтобы не переобучить и не недообучить нс\n",
        "\n",
        "также делаем preprocessing layers частью модели"
      ]
    },
    {
      "cell_type": "code",
      "metadata": {
        "id": "bKTT-C5r5NwP"
      },
      "source": [
        "num_classes = 10\n",
        "\n",
        "model = Sequential([             \n",
        "  data_augmentation,\n",
        "  layers.Conv2D(64, (3,3), activation='relu',input_shape=(28, 28, 1)),\n",
        "  layers.MaxPooling2D(),\n",
        "  layers.Conv2D(64, (4,4), activation='relu'),\n",
        "  layers.MaxPooling2D(),\n",
        "  layers.Conv2D(64, (4,4), activation='relu'),\n",
        "  layers.MaxPooling2D(),\n",
        "  layers.Flatten(),\n",
        "  layers.Dense(128, activation='relu'),\n",
        "  layers.Dense(num_classes)\n",
        "])"
      ],
      "execution_count": null,
      "outputs": []
    },
    {
      "cell_type": "markdown",
      "metadata": {
        "id": "NEga_TXvKG24"
      },
      "source": [
        "компилируем и выбираем оптимизатор адам"
      ]
    },
    {
      "cell_type": "code",
      "metadata": {
        "id": "mWpBvr3d5Qc7"
      },
      "source": [
        "model.compile(optimizer='adam',\n",
        "              loss=tf.keras.losses.SparseCategoricalCrossentropy(from_logits=True),\n",
        "              metrics=['accuracy'])"
      ],
      "execution_count": null,
      "outputs": []
    },
    {
      "cell_type": "markdown",
      "metadata": {
        "id": "eG-vwFpAKjPt"
      },
      "source": [
        "обучаем модель"
      ]
    },
    {
      "cell_type": "code",
      "metadata": {
        "id": "2SvqXxPF5UJH",
        "colab": {
          "base_uri": "https://localhost:8080/",
          "height": 332
        },
        "outputId": "2d2bd2dd-0e60-4277-aef5-64d669e765df"
      },
      "source": [
        "\n",
        "model.fit(\n",
        "  x_train,y_train,\n",
        "   epochs=5\n",
        ")\n"
      ],
      "execution_count": null,
      "outputs": [
        {
          "output_type": "stream",
          "text": [
            "Epoch 1/5\n",
            "WARNING:tensorflow:Layer random_zoom is casting an input tensor from dtype float64 to the layer's dtype of float32, which is new behavior in TensorFlow 2.  The layer has dtype float32 because its dtype defaults to floatx.\n",
            "\n",
            "If you intended to run this layer in float32, you can safely ignore this warning. If in doubt, this warning is likely only an issue if you are porting a TensorFlow 1.X model to TensorFlow 2.\n",
            "\n",
            "To change all layers to have dtype float64 by default, call `tf.keras.backend.set_floatx('float64')`. To change just this layer, pass dtype='float64' to the layer constructor. If you are the author of this layer, you can disable autocasting by passing autocast=False to the base Layer constructor.\n",
            "\n",
            "1875/1875 [==============================] - 116s 62ms/step - loss: 0.1566 - accuracy: 0.9506\n",
            "Epoch 2/5\n",
            "1875/1875 [==============================] - 117s 62ms/step - loss: 0.0496 - accuracy: 0.9847\n",
            "Epoch 3/5\n",
            "1875/1875 [==============================] - 116s 62ms/step - loss: 0.0390 - accuracy: 0.9883\n",
            "Epoch 4/5\n",
            "1875/1875 [==============================] - 114s 61ms/step - loss: 0.0331 - accuracy: 0.9894\n",
            "Epoch 5/5\n",
            "1875/1875 [==============================] - 114s 61ms/step - loss: 0.0266 - accuracy: 0.9918\n"
          ],
          "name": "stdout"
        },
        {
          "output_type": "execute_result",
          "data": {
            "text/plain": [
              "<tensorflow.python.keras.callbacks.History at 0x7fb81b0c6cc0>"
            ]
          },
          "metadata": {
            "tags": []
          },
          "execution_count": 7
        }
      ]
    },
    {
      "cell_type": "markdown",
      "metadata": {
        "id": "mD5AyZ7PKmPB"
      },
      "source": [
        "оцениваем модель (в ходе работы accuracy:0.9904)"
      ]
    },
    {
      "cell_type": "code",
      "metadata": {
        "id": "TBrj-ZTd5YxC",
        "colab": {
          "base_uri": "https://localhost:8080/",
          "height": 52
        },
        "outputId": "b18b3984-343e-4a83-9074-0346959ade30"
      },
      "source": [
        "model.evaluate(x_test,  y_test, verbose=2)"
      ],
      "execution_count": null,
      "outputs": [
        {
          "output_type": "stream",
          "text": [
            "313/313 - 4s - loss: 0.0252 - accuracy: 0.9904\n"
          ],
          "name": "stdout"
        },
        {
          "output_type": "execute_result",
          "data": {
            "text/plain": [
              "[0.025241632014513016, 0.9904153347015381]"
            ]
          },
          "metadata": {
            "tags": []
          },
          "execution_count": 8
        }
      ]
    }
  ]
}