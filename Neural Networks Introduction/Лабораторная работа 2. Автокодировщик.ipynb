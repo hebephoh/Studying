{
  "nbformat": 4,
  "nbformat_minor": 0,
  "metadata": {
    "colab": {
      "name": "имхасина_3530202_70201_дз_лаб2\"",
      "provenance": [],
      "collapsed_sections": []
    },
    "kernelspec": {
      "name": "python3",
      "display_name": "Python 3"
    },
    "accelerator": "GPU"
  },
  "cells": [
    {
      "cell_type": "code",
      "metadata": {
        "id": "H5hdFRMC9jKJ"
      },
      "source": [
        "import numpy as np\n",
        "import tensorflow as tf\n",
        "from tensorflow.keras.models import Model,Sequential\n",
        "from tensorflow import keras\n",
        "from tensorflow.keras import layers"
      ],
      "execution_count": null,
      "outputs": []
    },
    {
      "cell_type": "markdown",
      "metadata": {
        "id": "AAo-a8hss2Po"
      },
      "source": [
        "использовать упрощенную версию набора данных, где каждый пример отмечен либо 0 (соответствует ненормальному), либо 1 (соответствует нормальному). мы заинтересованы в выявлении ненормальных."
      ]
    },
    {
      "cell_type": "markdown",
      "metadata": {
        "id": "20VJ94g1YIB7"
      },
      "source": [
        "**цифры**"
      ]
    },
    {
      "cell_type": "code",
      "metadata": {
        "id": "LPwH1M-ZuAgD"
      },
      "source": [
        "mnist = tf.keras.datasets.mnist\n",
        "(x_train, y_train), (x_test, y_test) = mnist.load_data()\n",
        "\n",
        "x_train, x_test = x_train.astype('float32') / 255.0, x_test.astype('float32') / 255.0\n",
        "\n",
        "for i in range (len(y_test)):\n",
        "  y_test[i]=True\n",
        "for i in range (len(y_train)):\n",
        "  y_train[i]=True\n",
        "\n",
        "#y_test=y_test.astype(bool)\n",
        "#y_train=y_train.astype(bool)"
      ],
      "execution_count": null,
      "outputs": []
    },
    {
      "cell_type": "markdown",
      "metadata": {
        "id": "kawNJtJTtaWr"
      },
      "source": [
        "**Нормализовать данные до [0,1] .**"
      ]
    },
    {
      "cell_type": "markdown",
      "metadata": {
        "id": "cKqX7nk2thHP"
      },
      "source": [
        "обучать автоэнкодер, используя только нормальные *, которые в этом наборе данных помечены как 1"
      ]
    },
    {
      "cell_type": "code",
      "metadata": {
        "id": "Xlv6pzInx9Jw",
        "colab": {
          "base_uri": "https://localhost:8080/"
        },
        "outputId": "6b232e69-a19b-42f0-9f96-42e68e9ec1ff"
      },
      "source": [
        "y_test[10]\n",
        "#[10]-ый элемент - 0"
      ],
      "execution_count": null,
      "outputs": [
        {
          "output_type": "execute_result",
          "data": {
            "text/plain": [
              "1"
            ]
          },
          "metadata": {
            "tags": []
          },
          "execution_count": 3
        }
      ]
    },
    {
      "cell_type": "markdown",
      "metadata": {
        "id": "LpRXFVIrYFqA"
      },
      "source": [
        "**одежда**"
      ]
    },
    {
      "cell_type": "code",
      "metadata": {
        "id": "aSlthYfquHXT"
      },
      "source": [
        "(fashion_x_train, f_y_train), (fashion_x_test, f_y_test) = tf.keras.datasets.fashion_mnist.load_data()\n",
        "\n",
        "fashion_x_train = fashion_x_train.astype('float32') / 255.\n",
        "fashion_x_test = fashion_x_test.astype('float32') / 255.\n",
        "\n",
        "fashion_y_test=[]\n",
        "fashion_y_train=[]\n",
        "\n",
        "for i in range (len(f_y_test)):\n",
        "  fashion_y_test.append(False)\n",
        "for i in range (len(f_y_train)):\n",
        "  fashion_y_train.append(False)"
      ],
      "execution_count": null,
      "outputs": []
    },
    {
      "cell_type": "code",
      "metadata": {
        "id": "5N_PVoYYxyf4",
        "colab": {
          "base_uri": "https://localhost:8080/"
        },
        "outputId": "c23600f9-a114-4e58-81b6-c3e1e2bd71a8"
      },
      "source": [
        "fashion_y_test[1]"
      ],
      "execution_count": null,
      "outputs": [
        {
          "output_type": "execute_result",
          "data": {
            "text/plain": [
              "False"
            ]
          },
          "metadata": {
            "tags": []
          },
          "execution_count": 5
        }
      ]
    },
    {
      "cell_type": "code",
      "metadata": {
        "id": "JBSaRJ06Cgkx"
      },
      "source": [
        "normal_train_data = tf.reshape(x_train, [len(x_train), len(x_train[0]) * len(x_train[0][0])])\n",
        "normal_test_data = tf.reshape(x_test, [len(x_test), len(x_test[0]) * len(x_test[0][0])])\n",
        "anomalous_train_data = tf.reshape(fashion_x_train, [len(fashion_x_train), len(fashion_x_train[0]) * len(fashion_x_train[0][0])])\n",
        "anomalous_test_data = tf.reshape(fashion_x_test, [len(fashion_x_test), len(fashion_x_test[0]) * len(fashion_x_test[0][0])])"
      ],
      "execution_count": null,
      "outputs": []
    },
    {
      "cell_type": "markdown",
      "metadata": {
        "id": "eeeVwM-0ZB2y"
      },
      "source": [
        "**vstack() соединяет массивы по вертикали**\n",
        "\n",
        ">  \n",
        "\n",
        "\n",
        "**hstack() соединяет массивы по горизонтали**"
      ]
    },
    {
      "cell_type": "code",
      "metadata": {
        "id": "4s67Eypi_gmf"
      },
      "source": [
        "test_data = np.vstack((normal_test_data, anomalous_test_data))\n",
        "test_labels = np.hstack((y_test, fashion_y_test))"
      ],
      "execution_count": null,
      "outputs": []
    },
    {
      "cell_type": "markdown",
      "metadata": {
        "id": "bSMCrl8vsaPn"
      },
      "source": [
        "**[Построим модель](https://www.tensorflow.org/tutorials/generative/autoencoder#build_the_model)**"
      ]
    },
    {
      "cell_type": "code",
      "metadata": {
        "id": "peU6ydJGDBMt"
      },
      "source": [
        "class AnomalyDetector(Model):\n",
        "  def __init__(self):\n",
        "    super(AnomalyDetector, self).__init__()\n",
        "    self.encoder = tf.keras.Sequential([\n",
        "      layers.Dense(128, activation=\"relu\"),\n",
        "      layers.Dense(64, activation=\"relu\"),\n",
        "      layers.Dense(32, activation=\"relu\"),\n",
        "      layers.Dense(16, activation=\"relu\")])\n",
        "    \n",
        "    self.decoder = tf.keras.Sequential([\n",
        "      layers.Dense(32, activation=\"relu\"),\n",
        "      layers.Dense(64, activation=\"relu\"),\n",
        "      layers.Dense(128, activation=\"relu\"),\n",
        "      layers.Dense(784, activation=\"sigmoid\")])\n",
        "    \n",
        "  def call(self, x):\n",
        "    encoded = self.encoder(x)\n",
        "    decoded = self.decoder(encoded)\n",
        "    return decoded\n",
        "\n",
        "autoencoder = AnomalyDetector()"
      ],
      "execution_count": null,
      "outputs": []
    },
    {
      "cell_type": "code",
      "metadata": {
        "id": "8yqXx6o5DPTh"
      },
      "source": [
        "autoencoder.compile(optimizer='adam', loss='mae')\n",
        "#autoencoder.compile(optimizer='adam', loss='binary_crossentropy', metrics=['accuracy'])"
      ],
      "execution_count": null,
      "outputs": []
    },
    {
      "cell_type": "markdown",
      "metadata": {
        "id": "djy23upsn64K"
      },
      "source": [
        "**автоэнкодер обучается с использованием только обычных *, но оценивается с использованием полного набора тестов.**"
      ]
    },
    {
      "cell_type": "code",
      "metadata": {
        "id": "HShwbjJSDP62",
        "colab": {
          "base_uri": "https://localhost:8080/"
        },
        "outputId": "eaeb749e-5aa2-4e59-ae60-89f198760770"
      },
      "source": [
        "#n=5\n",
        "n=20\n",
        "trained_model=autoencoder.fit(normal_train_data, normal_train_data, \n",
        "          epochs=n, \n",
        "          batch_size=512,\n",
        "          validation_data=(test_data, test_data),\n",
        "          shuffle=True)"
      ],
      "execution_count": null,
      "outputs": [
        {
          "output_type": "stream",
          "text": [
            "Epoch 1/20\n",
            "118/118 [==============================] - 1s 6ms/step - loss: 0.1650 - val_loss: 0.1964\n",
            "Epoch 2/20\n",
            "118/118 [==============================] - 1s 4ms/step - loss: 0.1192 - val_loss: 0.1927\n",
            "Epoch 3/20\n",
            "118/118 [==============================] - 0s 4ms/step - loss: 0.1144 - val_loss: 0.1907\n",
            "Epoch 4/20\n",
            "118/118 [==============================] - 1s 4ms/step - loss: 0.1107 - val_loss: 0.1889\n",
            "Epoch 5/20\n",
            "118/118 [==============================] - 1s 4ms/step - loss: 0.1079 - val_loss: 0.1879\n",
            "Epoch 6/20\n",
            "118/118 [==============================] - 1s 5ms/step - loss: 0.1055 - val_loss: 0.1855\n",
            "Epoch 7/20\n",
            "118/118 [==============================] - 1s 4ms/step - loss: 0.1027 - val_loss: 0.1827\n",
            "Epoch 8/20\n",
            "118/118 [==============================] - 1s 4ms/step - loss: 0.1005 - val_loss: 0.1805\n",
            "Epoch 9/20\n",
            "118/118 [==============================] - 1s 5ms/step - loss: 0.0984 - val_loss: 0.1792\n",
            "Epoch 10/20\n",
            "118/118 [==============================] - 1s 4ms/step - loss: 0.0958 - val_loss: 0.1756\n",
            "Epoch 11/20\n",
            "118/118 [==============================] - 1s 4ms/step - loss: 0.0929 - val_loss: 0.1736\n",
            "Epoch 12/20\n",
            "118/118 [==============================] - 1s 4ms/step - loss: 0.0897 - val_loss: 0.1702\n",
            "Epoch 13/20\n",
            "118/118 [==============================] - 1s 5ms/step - loss: 0.0866 - val_loss: 0.1687\n",
            "Epoch 14/20\n",
            "118/118 [==============================] - 1s 5ms/step - loss: 0.0841 - val_loss: 0.1664\n",
            "Epoch 15/20\n",
            "118/118 [==============================] - 1s 5ms/step - loss: 0.0817 - val_loss: 0.1624\n",
            "Epoch 16/20\n",
            "118/118 [==============================] - 1s 4ms/step - loss: 0.0796 - val_loss: 0.1595\n",
            "Epoch 17/20\n",
            "118/118 [==============================] - 1s 5ms/step - loss: 0.0780 - val_loss: 0.1580\n",
            "Epoch 18/20\n",
            "118/118 [==============================] - 1s 4ms/step - loss: 0.0765 - val_loss: 0.1569\n",
            "Epoch 19/20\n",
            "118/118 [==============================] - 1s 4ms/step - loss: 0.0755 - val_loss: 0.1561\n",
            "Epoch 20/20\n",
            "118/118 [==============================] - 1s 4ms/step - loss: 0.0747 - val_loss: 0.1557\n"
          ],
          "name": "stdout"
        }
      ]
    },
    {
      "cell_type": "code",
      "metadata": {
        "id": "oLfe-uncbcH1",
        "colab": {
          "base_uri": "https://localhost:8080/",
          "height": 283
        },
        "outputId": "c4db0af0-65b1-47db-b076-1d9ba1e366bb"
      },
      "source": [
        "import matplotlib.pyplot as plt\n",
        "plt.plot(trained_model.history[\"loss\"], label=\"Training Loss\")\n",
        "plt.plot(trained_model.history[\"val_loss\"], label=\"Validation Loss\")\n",
        "plt.legend()"
      ],
      "execution_count": null,
      "outputs": [
        {
          "output_type": "execute_result",
          "data": {
            "text/plain": [
              "<matplotlib.legend.Legend at 0x7fb7c63de6a0>"
            ]
          },
          "metadata": {
            "tags": []
          },
          "execution_count": 10
        },
        {
          "output_type": "display_data",
          "data": {
            "image/png": "[encoded data removed]",
            "text/plain": [
              "<Figure size 432x288 with 1 Axes>"
            ]
          },
          "metadata": {
            "tags": [],
            "needs_background": "light"
          }
        }
      ]
    },
    {
      "cell_type": "markdown",
      "metadata": {
        "id": "YjmazwUDiY-8"
      },
      "source": [
        "**Постройте ошибку реконструкции из обучающей выборки**"
      ]
    },
    {
      "cell_type": "code",
      "metadata": {
        "id": "_3ffePbgiWC8"
      },
      "source": [
        "reconstructions = autoencoder.predict(normal_train_data)\n",
        "train_loss = tf.keras.losses.mae(reconstructions, normal_train_data)"
      ],
      "execution_count": null,
      "outputs": []
    },
    {
      "cell_type": "markdown",
      "metadata": {
        "id": "OhCmrHyih41s"
      },
      "source": [
        "**Выберите пороговое значение**"
      ]
    },
    {
      "cell_type": "code",
      "metadata": {
        "id": "LFdSgN7gDT70",
        "colab": {
          "base_uri": "https://localhost:8080/"
        },
        "outputId": "e6205230-0fa4-4913-d504-843dbca5cb19"
      },
      "source": [
        "threshold = np.mean(train_loss) + np.std(train_loss)\n",
        "print(\"Threshold: \", threshold)"
      ],
      "execution_count": null,
      "outputs": [
        {
          "output_type": "stream",
          "text": [
            "Threshold:  0.1045495\n"
          ],
          "name": "stdout"
        }
      ]
    },
    {
      "cell_type": "markdown",
      "metadata": {
        "id": "HDY0sAj7kCfy"
      },
      "source": [
        "**Классифицируйте * как аномалию, если ошибка восстановления превышает пороговое значение.**"
      ]
    },
    {
      "cell_type": "code",
      "metadata": {
        "id": "VQI0-G2vDxpv"
      },
      "source": [
        "def predict(model, data, threshold):\n",
        "  reconstructions = model(data)\n",
        "  \n",
        "  loss = tf.keras.losses.mae(reconstructions, data)\n",
        "  #print(loss)\n",
        "  #print(tf.math.less(loss, threshold))\n",
        "  #false if > Threshold\n",
        "  return tf.math.less(loss, threshold)\n"
      ],
      "execution_count": null,
      "outputs": []
    },
    {
      "cell_type": "code",
      "metadata": {
        "id": "kvERMi_-tKZo"
      },
      "source": [
        "from sklearn.metrics import accuracy_score, precision_score, recall_score"
      ],
      "execution_count": null,
      "outputs": []
    },
    {
      "cell_type": "code",
      "metadata": {
        "id": "NZ_zuGT_D2sI",
        "colab": {
          "base_uri": "https://localhost:8080/"
        },
        "outputId": "29a6f982-60cf-4f28-fbec-2d50650e99ac"
      },
      "source": [
        "preds = predict(autoencoder, test_data, threshold)\n",
        "print(\"anomaly detection\")\n",
        "print(\"Accuracy = {}\".format(accuracy_score(test_labels, preds)))\n",
        "print(\"Precision = {}\".format(precision_score(test_labels, preds)))\n",
        "print(\"Recall = {}\".format(recall_score(test_labels, preds)))"
      ],
      "execution_count": null,
      "outputs": [
        {
          "output_type": "stream",
          "text": [
            "anomaly detection\n",
            "Accuracy = 0.8869\n",
            "Precision = 0.9226567620712257\n",
            "Recall = 0.8446\n"
          ],
          "name": "stdout"
        }
      ]
    }
  ]
}