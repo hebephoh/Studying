{
  "nbformat": 4,
  "nbformat_minor": 0,
  "metadata": {
    "colab": {
      "name": "Untitled1.ipynb",
      "provenance": [],
      "collapsed_sections": []
    },
    "kernelspec": {
      "name": "python3",
      "display_name": "Python 3"
    }
  },
  "cells": [
    {
      "cell_type": "code",
      "metadata": {
        "id": "Be9IhyUz1e8s"
      },
      "source": [
        "import pandas as pd\n",
        "import numpy as np"
      ],
      "execution_count": null,
      "outputs": []
    },
    {
      "cell_type": "markdown",
      "metadata": {
        "id": "IysTydo4AODX"
      },
      "source": [
        "**1.1.1**"
      ]
    },
    {
      "cell_type": "code",
      "metadata": {
        "id": "bkDkuK1O1ghP"
      },
      "source": [
        "data=pd.read_csv(\"/content/drive/My Drive/Colab Notebooks/tic_tac_toe.csv\")\n",
        "\n",
        "labels = data[data.columns[-1]].values\n",
        "feature_matrix = data[data.columns[:-1]].values\n",
        "\n",
        "for i in range(957):\n",
        "  for j in range(9):\n",
        "    if feature_matrix[i][j]=='x':\n",
        "      feature_matrix[i][j]=1\n",
        "    if feature_matrix[i][j]=='o':\n",
        "      feature_matrix[i][j]=0\n",
        "    if feature_matrix[i][j]=='b':\n",
        "      feature_matrix[i][j]=2\n",
        "\n",
        "from sklearn.model_selection import train_test_split\n"
      ],
      "execution_count": null,
      "outputs": []
    },
    {
      "cell_type": "code",
      "metadata": {
        "id": "SnBdqy_C2GRS"
      },
      "source": [
        "from sklearn.naive_bayes import GaussianNB\n",
        "from sklearn.metrics import accuracy_score"
      ],
      "execution_count": null,
      "outputs": []
    },
    {
      "cell_type": "code",
      "metadata": {
        "id": "I75wQ_1C5eTt"
      },
      "source": [
        "tp=[]\n",
        "tc=[]\n",
        "ttp=[]"
      ],
      "execution_count": null,
      "outputs": []
    },
    {
      "cell_type": "markdown",
      "metadata": {
        "id": "gr01QKAMQBFs"
      },
      "source": [
        "чтобы графики отличались, нужно менять значения c и t, ошибка будет возникать если значение t будет больше 1 по итогу таймера"
      ]
    },
    {
      "cell_type": "code",
      "metadata": {
        "id": "wMbaEqaC1wmJ"
      },
      "source": [
        "c=12\n",
        "t=0.1\n",
        "tc.append(t)\n",
        "for _ in range(c):\n",
        "  train_feature_matrix, test_feature_matrix, train_labels, test_labels = train_test_split(feature_matrix, labels, test_size=t, random_state=42)\n",
        "  gnb = GaussianNB()\n",
        "  model = gnb.fit(train_feature_matrix, train_labels)\n",
        "  y_pred = gnb.predict(test_feature_matrix)\n",
        "  tp.append(accuracy_score(test_labels, y_pred))\n",
        "  t+=0.08\n",
        "  tc.append(round(t,2))"
      ],
      "execution_count": null,
      "outputs": []
    },
    {
      "cell_type": "code",
      "metadata": {
        "id": "An6jWvcn9JQS"
      },
      "source": [
        "c=12\n",
        "t=0.1\n",
        "for _ in range(c):\n",
        "  train_feature_matrix, test_feature_matrix, train_labels, test_labels = train_test_split(feature_matrix, labels, test_size=t, random_state=42)\n",
        "  gnb = GaussianNB()\n",
        "  model = gnb.fit(train_feature_matrix, train_labels)\n",
        "  y_pred = gnb.predict(train_feature_matrix)\n",
        "  ttp.append(accuracy_score(train_labels, y_pred))\n",
        "  t+=0.08"
      ],
      "execution_count": null,
      "outputs": []
    },
    {
      "cell_type": "code",
      "metadata": {
        "colab": {
          "base_uri": "https://localhost:8080/",
          "height": 297
        },
        "id": "BcmWm_z62acn",
        "outputId": "7f045b22-6295-4fc9-8907-2c200d112611"
      },
      "source": [
        "import matplotlib.pyplot as plt\n",
        "from pylab import *\n",
        "plt.plot(tp)\n",
        "plt.plot(ttp)\n",
        "plt.ylabel('accuracy score')\n",
        "plt.xlabel('процент тестовой выборки')\n",
        "plt.axis([0, 10, 0.6, 0.75])\n",
        "xticks(range(12), tc)\n",
        "legend ( (\"тестовая\", \"обучающая\") )"
      ],
      "execution_count": null,
      "outputs": [
        {
          "output_type": "execute_result",
          "data": {
            "text/plain": [
              "<matplotlib.legend.Legend at 0x7f2efcc502e8>"
            ]
          },
          "metadata": {
            "tags": []
          },
          "execution_count": 80
        },
        {
          "output_type": "display_data",
          "data": {
            "image/png": "[encoded data removed]",
            "text/plain": [
              "<Figure size 432x288 with 1 Axes>"
            ]
          },
          "metadata": {
            "tags": [],
            "needs_background": "light"
          }
        }
      ]
    },
    {
      "cell_type": "markdown",
      "metadata": {
        "id": "iTSTFB3SARX7"
      },
      "source": [
        "**1.1.2**"
      ]
    },
    {
      "cell_type": "code",
      "metadata": {
        "id": "a-6ArZ-NATSr"
      },
      "source": [
        "data=pd.read_csv(\"/content/drive/My Drive/Colab Notebooks/spam.csv\")\n",
        "labels = data[data.columns[-1]].values\n",
        "feature_matrix = data[data.columns[:-1]].values\n",
        "from sklearn.model_selection import train_test_split"
      ],
      "execution_count": null,
      "outputs": []
    },
    {
      "cell_type": "code",
      "metadata": {
        "id": "hlBrQ9P4Ac2Y"
      },
      "source": [
        "tp=[]\n",
        "tc=[]\n",
        "ttp=[]"
      ],
      "execution_count": null,
      "outputs": []
    },
    {
      "cell_type": "code",
      "metadata": {
        "id": "fXLC2cEcAg8Y"
      },
      "source": [
        "c=12\n",
        "t=0.1\n",
        "tc.append(t)\n",
        "for _ in range(c):\n",
        "  train_feature_matrix, test_feature_matrix, train_labels, test_labels = train_test_split(feature_matrix, labels, test_size=t, random_state=42)\n",
        "  gnb = GaussianNB()\n",
        "  model = gnb.fit(train_feature_matrix, train_labels)\n",
        "  y_pred = gnb.predict(test_feature_matrix)\n",
        "  tp.append(accuracy_score(test_labels, y_pred))\n",
        "  t+=0.08\n",
        "  tc.append(round(t,2))"
      ],
      "execution_count": null,
      "outputs": []
    },
    {
      "cell_type": "code",
      "metadata": {
        "id": "57ehwspcAh4L"
      },
      "source": [
        "c=12\n",
        "t=0.1\n",
        "for _ in range(c):\n",
        "  train_feature_matrix, test_feature_matrix, train_labels, test_labels = train_test_split(feature_matrix, labels, test_size=t, random_state=42)\n",
        "  gnb = GaussianNB()\n",
        "  model = gnb.fit(train_feature_matrix, train_labels)\n",
        "  y_pred = gnb.predict(train_feature_matrix)\n",
        "  ttp.append(accuracy_score(train_labels, y_pred))\n",
        "  t+=0.08"
      ],
      "execution_count": null,
      "outputs": []
    },
    {
      "cell_type": "code",
      "metadata": {
        "colab": {
          "base_uri": "https://localhost:8080/",
          "height": 301
        },
        "id": "5kwKz6kcAoOg",
        "outputId": "37250ae0-e54e-47aa-f2e5-78a5d1e0da6a"
      },
      "source": [
        "import matplotlib.pyplot as plt\n",
        "from pylab import *\n",
        "plt.plot(tp)\n",
        "plt.plot(ttp)\n",
        "plt.ylabel('accuracy score')\n",
        "plt.xlabel('процент тестовой выборки')\n",
        "plt.axis([0, 10, 0.7, 1])\n",
        "xticks(range(12), tc)\n",
        "legend ( (\"тестовая\", \"обучающая\") )"
      ],
      "execution_count": null,
      "outputs": [
        {
          "output_type": "execute_result",
          "data": {
            "text/plain": [
              "<matplotlib.legend.Legend at 0x7f2efd330a58>"
            ]
          },
          "metadata": {
            "tags": []
          },
          "execution_count": 86
        },
        {
          "output_type": "display_data",
          "data": {
            "image/png": "[encoded data removed]",
            "text/plain": [
              "<Figure size 432x288 with 1 Axes>"
            ]
          },
          "metadata": {
            "tags": [],
            "needs_background": "light"
          }
        }
      ]
    },
    {
      "cell_type": "markdown",
      "metadata": {
        "id": "yFd4PdxmNQ44"
      },
      "source": [
        "**3.1**"
      ]
    },
    {
      "cell_type": "code",
      "metadata": {
        "id": "jEcfJsyRNS-7"
      },
      "source": [
        "data=pd.read_csv(\"/content/drive/My Drive/Colab Notebooks/glass.csv\")\n",
        "labels = data[data.columns[-1]].values\n",
        "feature_matrix = data[data.columns[1:-1]].values\n",
        "from sklearn.model_selection import train_test_split\n",
        "train_feature_matrix, test_feature_matrix, train_labels, test_labels = train_test_split(\n",
        "    feature_matrix, labels, test_size=0.2, random_state=42)\n",
        "from sklearn.neighbors import KNeighborsClassifier\n",
        "from sklearn.model_selection import GridSearchCV"
      ],
      "execution_count": null,
      "outputs": []
    },
    {
      "cell_type": "code",
      "metadata": {
        "id": "SeW8_D0cNeCD"
      },
      "source": [
        "c=1\n",
        "train1=[]\n",
        "test1=[]\n",
        "x_t=[]\n",
        "for i in range(5):\n",
        "  knn=KNeighborsClassifier(n_neighbors=c)\n",
        "  knn.fit(train_feature_matrix, train_labels)\n",
        "  y_train_predict = knn.predict(train_feature_matrix)\n",
        "  y_test_predict = knn.predict(test_feature_matrix)\n",
        "\n",
        "  err_train = np.mean(train_labels != y_train_predict)\n",
        "  err_test  = np.mean(test_labels  != y_test_predict)\n",
        "  train1.append(err_train)\n",
        "  test1.append(err_test)\n",
        "  x_t.append(c)\n",
        "  c+=1\n"
      ],
      "execution_count": null,
      "outputs": []
    },
    {
      "cell_type": "code",
      "metadata": {
        "colab": {
          "base_uri": "https://localhost:8080/",
          "height": 301
        },
        "id": "OLW7FWJPORSM",
        "outputId": "e77f5217-3098-41f7-a719-8ad478a7f918"
      },
      "source": [
        "import matplotlib.pyplot as plt\n",
        "from pylab import *\n",
        "plt.plot(train1)\n",
        "plt.plot(test1)\n",
        "plt.ylabel('loss_ score')\n",
        "plt.xlabel('количество соседей')\n",
        "plt.axis([1, 4, 0, 0.4])\n",
        "xticks(range(5), x_t)\n",
        "legend ( (\"тестовая\", \"обучающая\") )"
      ],
      "execution_count": null,
      "outputs": [
        {
          "output_type": "execute_result",
          "data": {
            "text/plain": [
              "<matplotlib.legend.Legend at 0x7fec25ba3668>"
            ]
          },
          "metadata": {
            "tags": []
          },
          "execution_count": 12
        },
        {
          "output_type": "display_data",
          "data": {
            "image/png": "[encoded data removed]",
            "text/plain": [
              "<Figure size 432x288 with 1 Axes>"
            ]
          },
          "metadata": {
            "tags": [],
            "needs_background": "light"
          }
        }
      ]
    }
  ]
}